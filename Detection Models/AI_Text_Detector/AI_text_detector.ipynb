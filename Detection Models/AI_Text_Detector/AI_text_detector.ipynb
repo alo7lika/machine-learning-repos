{
 "cells": [
  {
   "cell_type": "markdown",
   "metadata": {},
   "source": [
    "# GloVe EMBEDDING TECHNIQUE"
   ]
  },
  {
   "cell_type": "code",
   "execution_count": 1,
   "metadata": {},
   "outputs": [],
   "source": [
    "import numpy as np\n",
    "\n",
    "def load_glove_embeddings(file_path):\n",
    "    embeddings_index = {}\n",
    "    with open(file_path, encoding=\"utf-8\") as f:\n",
    "        for line in f:\n",
    "            values = line.split()\n",
    "            word = values[0]\n",
    "            coefs = np.asarray(values[1:], dtype=\"float32\")\n",
    "            embeddings_index[word] = coefs\n",
    "    return embeddings_index\n",
    "\n",
    "glove_file_path = \"glove.6B.100d.txt\"  # Adjust the path based on your downloaded file\n",
    "glove_embeddings = load_glove_embeddings(glove_file_path)\n"
   ]
  },
  {
   "cell_type": "markdown",
   "metadata": {},
   "source": [
    "# TOKENIZE TEXT"
   ]
  },
  {
   "cell_type": "code",
   "execution_count": 2,
   "metadata": {},
   "outputs": [],
   "source": [
    "from tensorflow.keras.preprocessing.text import Tokenizer\n",
    "from sklearn.model_selection import train_test_split\n",
    "import pandas as pd\n",
    "\n",
    "dataset = pd.read_csv(\"AI_Human_Essay.csv\")\n",
    "\n",
    "X_train, X_test, y_train, y_test = train_test_split(\n",
    "    dataset['text'], dataset['generated'].astype(int), test_size=0.2, random_state=42\n",
    ")\n",
    "\n",
    "max_words = 10000  # Choose an appropriate value\n",
    "tokenizer = Tokenizer(num_words=max_words)\n",
    "tokenizer.fit_on_texts(X_train)\n",
    "X_train_sequences = tokenizer.texts_to_sequences(X_train)\n",
    "X_test_sequences = tokenizer.texts_to_sequences(X_test)\n"
   ]
  },
  {
   "cell_type": "markdown",
   "metadata": {},
   "source": [
    "# PAD SEQUENCES"
   ]
  },
  {
   "cell_type": "code",
   "execution_count": 3,
   "metadata": {},
   "outputs": [],
   "source": [
    "from tensorflow.keras.preprocessing.sequence import pad_sequences\n",
    "\n",
    "max_sequence_length = 100  # Choose an appropriate value\n",
    "X_train_padded = pad_sequences(X_train_sequences, maxlen=max_sequence_length)\n",
    "X_test_padded = pad_sequences(X_test_sequences, maxlen=max_sequence_length)\n"
   ]
  },
  {
   "cell_type": "markdown",
   "metadata": {},
   "source": [
    "# CREATE EMBEDDING MATRIX"
   ]
  },
  {
   "cell_type": "code",
   "execution_count": 4,
   "metadata": {},
   "outputs": [],
   "source": [
    "word_index = tokenizer.word_index\n",
    "embedding_dim = 100  # Use the same dimension as your GloVe file\n",
    "embedding_matrix = np.zeros((max_words, embedding_dim))\n",
    "for word, i in word_index.items():\n",
    "    if i < max_words:\n",
    "        embedding_vector = glove_embeddings.get(word)\n",
    "        if embedding_vector is not None:\n",
    "            embedding_matrix[i] = embedding_vector"
   ]
  },
  {
   "cell_type": "markdown",
   "metadata": {},
   "source": [
    "# BUILD THE MODEL"
   ]
  },
  {
   "cell_type": "code",
   "execution_count": 5,
   "metadata": {},
   "outputs": [
    {
     "name": "stderr",
     "output_type": "stream",
     "text": [
      "c:\\Users\\ShariqSD\\AppData\\Local\\Programs\\Python\\Python312\\Lib\\site-packages\\keras\\src\\layers\\core\\embedding.py:90: UserWarning: Argument `input_length` is deprecated. Just remove it.\n",
      "  warnings.warn(\n"
     ]
    },
    {
     "name": "stdout",
     "output_type": "stream",
     "text": [
      "Epoch 1/3\n",
      "\u001b[1m12181/12181\u001b[0m \u001b[32m━━━━━━━━━━━━━━━━━━━━\u001b[0m\u001b[37m\u001b[0m \u001b[1m5317s\u001b[0m 436ms/step - accuracy: 0.8920 - loss: 0.3980 - val_accuracy: 0.9496 - val_loss: 0.1888\n",
      "Epoch 2/3\n",
      "\u001b[1m12181/12181\u001b[0m \u001b[32m━━━━━━━━━━━━━━━━━━━━\u001b[0m\u001b[37m\u001b[0m \u001b[1m4890s\u001b[0m 397ms/step - accuracy: 0.9500 - loss: 0.1801 - val_accuracy: 0.9626 - val_loss: 0.1449\n",
      "Epoch 3/3\n",
      "\u001b[1m12181/12181\u001b[0m \u001b[32m━━━━━━━━━━━━━━━━━━━━\u001b[0m\u001b[37m\u001b[0m \u001b[1m4077s\u001b[0m 335ms/step - accuracy: 0.9539 - loss: 0.1708 - val_accuracy: 0.9640 - val_loss: 0.1456\n"
     ]
    },
    {
     "data": {
      "text/plain": [
       "<keras.src.callbacks.history.History at 0x14d81da2990>"
      ]
     },
     "execution_count": 5,
     "metadata": {},
     "output_type": "execute_result"
    }
   ],
   "source": [
    "from tensorflow.keras.models import Sequential\n",
    "from tensorflow.keras.layers import Embedding, LSTM, Dense, BatchNormalization, Dropout\n",
    "from tensorflow.keras.regularizers import l2\n",
    "\n",
    "model = Sequential()\n",
    "model.add(Embedding(max_words, embedding_dim, input_length=max_sequence_length, weights=[embedding_matrix], trainable=False))\n",
    "model.add(LSTM(256, return_sequences=True, kernel_regularizer=l2(0.001), recurrent_regularizer=l2(0.001)))  \n",
    "model.add(Dropout(0.5))  # Increased dropout rate\n",
    "model.add(LSTM(128, kernel_regularizer=l2(0.001), recurrent_regularizer=l2(0.001)))\n",
    "model.add(Dropout(0.5))  # Increased dropout rate\n",
    "model.add(Dense(64, activation=\"relu\"))\n",
    "model.add(BatchNormalization())\n",
    "model.add(Dense(1, activation=\"sigmoid\"))\n",
    "\n",
    "# Compile the model\n",
    "model.compile(optimizer=\"adam\", loss=\"binary_crossentropy\", metrics=[\"accuracy\"])\n",
    "\n",
    "# Train the model with more epochs\n",
    "model.fit(X_train_padded, y_train, epochs=3, validation_data=(X_test_padded, y_test))\n"
   ]
  },
  {
   "cell_type": "code",
   "execution_count": 6,
   "metadata": {},
   "outputs": [
    {
     "name": "stdout",
     "output_type": "stream",
     "text": [
      "\u001b[1m3046/3046\u001b[0m \u001b[32m━━━━━━━━━━━━━━━━━━━━\u001b[0m\u001b[37m\u001b[0m \u001b[1m341s\u001b[0m 112ms/step\n",
      "Classification Report:\n",
      "              precision    recall  f1-score   support\n",
      "\n",
      "           0       0.97      0.98      0.97     61112\n",
      "           1       0.96      0.94      0.95     36335\n",
      "\n",
      "    accuracy                           0.96     97447\n",
      "   macro avg       0.96      0.96      0.96     97447\n",
      "weighted avg       0.96      0.96      0.96     97447\n",
      "\n",
      "Confusion Matrix:\n",
      "[[59679  1433]\n",
      " [ 2071 34264]]\n"
     ]
    }
   ],
   "source": [
    "import numpy as np\n",
    "from sklearn.metrics import classification_report, confusion_matrix\n",
    "\n",
    "# Make predictions on test data\n",
    "y_pred_probs = model.predict(X_test_padded)\n",
    "y_pred = np.round(y_pred_probs).astype(int)\n",
    "\n",
    "# Convert probabilities to binary class labels using a threshold (e.g., 0.5)\n",
    "# y_pred = (y_pred_probs > 0.5).astype(int)\n",
    "\n",
    "# Compute classification report\n",
    "print(\"Classification Report:\")\n",
    "print(classification_report(y_test, y_pred))\n",
    "\n",
    "# Compute confusion matrix\n",
    "print(\"Confusion Matrix:\")\n",
    "print(confusion_matrix(y_test, y_pred))\n"
   ]
  },
  {
   "cell_type": "markdown",
   "metadata": {},
   "source": [
    "# Classification Report:\n",
    "              precision    recall  f1-score   support\n",
    "\n",
    "           0       0.97      0.99      0.98      3539\n",
    "           1       0.98      0.96      0.97      2290\n",
    "\n",
    "    accuracy                           0.98      5829\n",
    "   macro avg       0.98      0.97      0.98      5829\n",
    "weighted avg       0.98      0.98      0.98      5829\n",
    "\n",
    "# Confusion Matrix:\n",
    "[[3496   43]\n",
    " [  91 2199]] "
   ]
  },
  {
   "cell_type": "code",
   "execution_count": 7,
   "metadata": {},
   "outputs": [
    {
     "name": "stdout",
     "output_type": "stream",
     "text": [
      "\u001b[1m3046/3046\u001b[0m \u001b[32m━━━━━━━━━━━━━━━━━━━━\u001b[0m\u001b[37m\u001b[0m \u001b[1m336s\u001b[0m 110ms/step\n",
      "Classification Report:\n",
      "              precision    recall  f1-score   support\n",
      "\n",
      "           0       0.97      0.98      0.97     61112\n",
      "           1       0.96      0.94      0.95     36335\n",
      "\n",
      "    accuracy                           0.96     97447\n",
      "   macro avg       0.96      0.96      0.96     97447\n",
      "weighted avg       0.96      0.96      0.96     97447\n",
      "\n",
      "Confusion Matrix:\n",
      "[[59679  1433]\n",
      " [ 2071 34264]]\n"
     ]
    }
   ],
   "source": [
    "# Perform predictions\n",
    "y_pred_prob = model.predict(X_test_padded)\n",
    "y_pred = (y_pred_prob > 0.5).astype('int32')\n",
    "\n",
    "# Print classification report\n",
    "print(\"Classification Report:\")\n",
    "print(classification_report(y_test, y_pred))\n",
    "\n",
    "# Print confusion matrix\n",
    "print(\"Confusion Matrix:\")\n",
    "print(confusion_matrix(y_test, y_pred))\n"
   ]
  },
  {
   "cell_type": "code",
   "execution_count": 8,
   "metadata": {},
   "outputs": [
    {
     "name": "stdout",
     "output_type": "stream",
     "text": [
      "Enter the text to classify:\n",
      "\u001b[1m1/1\u001b[0m \u001b[32m━━━━━━━━━━━━━━━━━━━━\u001b[0m\u001b[37m\u001b[0m \u001b[1m0s\u001b[0m 110ms/step\n",
      "AI-generated\n"
     ]
    }
   ],
   "source": [
    "def predict_text_origin(model, tokenizer, max_sequence_length):\n",
    "    # Prompt user to enter text\n",
    "    print(\"Enter the text to classify:\")\n",
    "    input_text = input()\n",
    "\n",
    "    # Tokenize and pad the input text\n",
    "    input_sequence = tokenizer.texts_to_sequences([input_text])\n",
    "    input_padded = pad_sequences(input_sequence, maxlen=max_sequence_length)\n",
    "\n",
    "    # Predict the class probability\n",
    "    prediction = model.predict(input_padded)\n",
    "\n",
    "    # Determine the predicted class label\n",
    "    predicted_label = \"AI-generated\" if prediction[0] >= 0.5 else \"Human-generated\"\n",
    "\n",
    "    print( predicted_label)\n",
    "\n",
    "# Example usage:\n",
    "predicted_class = predict_text_origin(model, tokenizer, max_sequence_length)\n",
    "\n"
   ]
  },
  {
   "cell_type": "code",
   "execution_count": 10,
   "metadata": {},
   "outputs": [],
   "source": [
    "# # Save the weights of the model\n",
    "# model.save_weights('model_updated_weight_ai.weights.h5')\n",
    "\n",
    "# Save the weights of the model\n",
    "model.save_weights('models/model_updated_weight_ai.weights.h5')\n",
    "\n"
   ]
  }
 ],
 "metadata": {
  "colab": {
   "provenance": []
  },
  "kernelspec": {
   "display_name": "Python 3 (ipykernel)",
   "language": "python",
   "name": "python3"
  },
  "language_info": {
   "codemirror_mode": {
    "name": "ipython",
    "version": 3
   },
   "file_extension": ".py",
   "mimetype": "text/x-python",
   "name": "python",
   "nbconvert_exporter": "python",
   "pygments_lexer": "ipython3",
   "version": "3.12.2"
  }
 },
 "nbformat": 4,
 "nbformat_minor": 4
}
